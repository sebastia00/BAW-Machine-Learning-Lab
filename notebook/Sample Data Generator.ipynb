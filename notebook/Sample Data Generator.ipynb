{
 "cells": [
  {
   "cell_type": "markdown",
   "metadata": {},
   "source": [
    "### Data Generation Notebook\n",
    "\n",
    "This notebook generates data helpful to test the model we're building for the lab.\n",
    "\n",
    "The create_instance function will calculate a score from a number of attributes related to the loan request.  If the score reaches a certain threshold then the loan is approved."
   ]
  },
  {
   "cell_type": "code",
   "execution_count": null,
   "metadata": {},
   "outputs": [],
   "source": [
    "import numpy as np\n",
    "\n",
    "def create_instances(number_of_instances):\n",
    "    \n",
    "    makes = [(\"Ford\",3),(\"GM\",2),(\"VW\",5),(\"Toyota\",10),(\"Porsche\",9)]\n",
    "    models = dict()\n",
    "    models[\"Ford\"] = [(\"Escape\",\"SUV\"), (\"Focus\",\"Car\")]\n",
    "    models[\"GM\"] = [(\"Malibu\",\"Car\"), (\"Volt\",\"Car\")]\n",
    "    models[\"VW\"] = [(\"Golf\",\"Car\"), (\"Atlas\",\"SUV\")]\n",
    "    models[\"Toyota\"] = [(\"Corolla\",\"Car\"), (\"4Runner\",\"SUV\")]\n",
    "    models[\"Porsche\"] = [(\"911\",\"Car\"), (\"Cayenne\",\"SUV\")]\n",
    "    \n",
    "    result = []\n",
    "    for i in range(number_of_instances):\n",
    "        \n",
    "        makesEntry = makes[np.random.randint(5)]\n",
    "        make = makesEntry[0]\n",
    "        modelEntry = models[make][np.random.randint(2)]\n",
    "        model = modelEntry[0]\n",
    "        vType = modelEntry[1]\n",
    "        \n",
    "        year = np.random.randint(1990,2018)\n",
    "        \n",
    "        requestedAmount = np.random.randint(1000,34000)\n",
    "        approvedAmount = 0\n",
    "        creditScore = np.random.randint(50,1000)\n",
    "        \n",
    "        makeScore = makesEntry[1] / 10\n",
    "        \n",
    "        typeScore = 0\n",
    "        if(vType == 'SUV'):\n",
    "            typeScore += 1\n",
    "        \n",
    "        \n",
    "        \n",
    "        if(requestedAmount > 15000):\n",
    "            amountScore = 0\n",
    "        elif(requestedAmount > 10000):\n",
    "            amountScore = 3\n",
    "        elif(requestedAmount > 5000):\n",
    "            amountScore = 6\n",
    "        else:\n",
    "            amountScore = 10\n",
    "        \n",
    "        amountScore /= 10\n",
    "        \n",
    "        age = 2018 - year\n",
    "        \n",
    "        ageScore = 0\n",
    "        if(age == 0):\n",
    "            ageScore += 10\n",
    "        elif (age <= 3):\n",
    "            ageScore += 8\n",
    "        elif (age <=7):\n",
    "            ageScore += 6\n",
    "        elif (age <= 10):\n",
    "            ageScore += 3\n",
    "        \n",
    "        ageScore /= 10\n",
    "        \n",
    "        credit = 0\n",
    "        if(creditScore > 300):\n",
    "            credit += 3\n",
    "        elif (creditScore > 500):\n",
    "            credit += 6\n",
    "        elif (creditScore > 700):\n",
    "            credit += 10\n",
    "        \n",
    "        credit /= 10\n",
    "        \n",
    "        finalScore = (makeScore * 0.1 + typeScore * 0.1 +  amountScore * 0.30 + ageScore * 0.2 + credit * 0.3) * 100\n",
    "        \n",
    "        if(finalScore > 100 or finalScore < 0):\n",
    "            raise ValueError('Final Score corrupt: ' + finalScore)\n",
    "        \n",
    "        approved = \"false\"\n",
    "        if(finalScore > 40):\n",
    "            approved = \"true\"\n",
    "            \n",
    "        \n",
    "        # Introduce some random behvaiour into the decision\n",
    "        reverse = np.random.randint(1,10)\n",
    "        resultReversed = \"false\"\n",
    "        if(reverse == 1):  # Reverse the result 10% of the time\n",
    "            if(approved == \"true\"): \n",
    "                approved = \"false\"\n",
    "            else:\n",
    "                approved = \"true\"\n",
    "            resultReversed = \"true\"\n",
    "            \n",
    "        if(approved == \"true\"):\n",
    "            approvedAmount = requestedAmount\n",
    "        \n",
    "        entry = {\"id\": \" e488e5132f5f2161792162189\", \n",
    "            \"offset\": 314, \n",
    "            \"partition\": 0, \n",
    "            \"bpmCellName\": \"bpmCell01\", \n",
    "            \"version\": \"0.1.0\", \n",
    "            \"type\": \"EVENT_THROWN\", \n",
    "            \"timestamp\": \"2018-01-12T15:06:34.491+01:00\", \n",
    "            \"activityId\": \"bpdid:431b0753c33842e2:3d5457c0:141a2fd3448:-75fb\", \n",
    "            \"activityVersionId\": \"2064.f1659d94-2365-4903-8a90-9fa62f3ccd31\", \n",
    "            \"activityName\": \"Claim approval\", \n",
    "            \"activityType\": \"userTask\", \n",
    "            \"processApplicationVersionId\": \"2064.3a3ebfc4-da8a-4d09-9359-8f33003c2f83\", \n",
    "            \"processApplicationSnapshotName\": \"Reco service Sample v8600_01\", \n",
    "            \"processApplicationName\": \"Recommendation service\", \n",
    "            \"processApplicationId\": \"2066.f8adcf19-53a9-4fc2-b1f8-637fe94483c2 \", \n",
    "            \"activityInstanceId\": \"processId.bpmSystemId.processInstanceId.taskInstanceId\", \n",
    "            \"processInstanceId\": \"processId.bpmSystemId.processInstanceId\", \n",
    "            \"parentId\": \"processId.bpmSystemId.processInstanceId[.parentTaskInstanceId]\", \n",
    "            \"trackedFields\": {\n",
    "                \"vehicleMake.string\": make, \n",
    "                \"vehicleType.string\": vType, \n",
    "                \"vehicleModel.string\": model, \n",
    "                \"vehicleYear.integer\": year, \n",
    "                \"approvedAmount.integer\": approvedAmount, \n",
    "                \"requestedAmount.integer\": requestedAmount, \n",
    "                \"creditScore.integer\": creditScore,\n",
    "                \"score.integer\": finalScore,  # track this to check the data\n",
    "                \"approved.string\": approved, \n",
    "                \"wasReversed.string\": resultReversed # track this to check the data\n",
    "            }, \n",
    "            \"trackingGroupName\": \"Loan_Approval\", \n",
    "            \"trackingPointName\": \"Tracking\", \n",
    "            \"trackingPointId\": \"-f4ed8784d4a8bpdid431b0753c33842e23d5457c0141a2fd3448-75fb (PRE)\", \n",
    "            \"trackingGroupId\": \"fb6ebad8-ddec-492c-8ed4-f26b362c99ea\", \n",
    "            \"trackingGroupVersionId\": \"2064.f1659d94-2365-4903-8a90-9fa62f3ccd31\", \n",
    "            \"trackingPointVersionId\": \"2064.f1659d94-2365-4903-8a90-9fa62f3ccd31\", \n",
    "            \"trackingPointOccurrenceTime\": \"2018-01-12T15:06:34.494+01:00\", \n",
    "            \"kpiData\": { }, \n",
    "            \"bpmSystemId\": \"47a21c0d-7af5-4d6c-bac6-7ecbec83a961\", \n",
    "            \"sequenceId\": 6, \n",
    "            \"performerName\": \"bpmadmin\", \n",
    "            \"performerId\": \"bpmadmin\"\n",
    "        }\n",
    "        result.append(entry)\n",
    "    \n",
    "    return result\n",
    "\n"
   ]
  },
  {
   "cell_type": "markdown",
   "metadata": {},
   "source": [
    "Call the function above to create the sample data.  We save it to a json file that we can consume later.  The format of the data matches what BAI drops into HDFS.  We don't worry about the process app ID or the process itself as that part is discarded.  We only care about what's in the trackedFields element which carries the actual business data."
   ]
  },
  {
   "cell_type": "code",
   "execution_count": null,
   "metadata": {},
   "outputs": [],
   "source": [
    "from pyspark.sql import  SparkSession\n",
    "import pandas as pd\n",
    "\n",
    "sampleDataSet = create_instances(10000)\n",
    "\n",
    "sampleDataSetFile = open(\"sample_loan_approval.json\",\"w\", encoding=\"UTF-8\")\n",
    "sampleDataSetFile.write(str(sampleDataSet))\n",
    "sampleDataSetFile.close()\n",
    "\n",
    "spark = SparkSession.builder.getOrCreate()\n",
    "summaries = spark.read.json(\"sample_loan_approval.json\")  \n",
    "\n",
    "summaries.createOrReplaceTempView(\"timeseries\")\n",
    "\n",
    "businessdata = spark.sql(\"SELECT trackedFields.* from timeseries\")\n",
    "\n",
    "summary_pd = businessdata.toPandas()\n",
    "\n",
    "print(summary_pd.columns)"
   ]
  },
  {
   "cell_type": "markdown",
   "metadata": {},
   "source": [
    "### Verify the Data\n",
    "\n",
    "Let's examine the data that was generated."
   ]
  },
  {
   "cell_type": "code",
   "execution_count": null,
   "metadata": {},
   "outputs": [],
   "source": [
    "print(summary_pd.columns)"
   ]
  },
  {
   "cell_type": "markdown",
   "metadata": {},
   "source": [
    "Let's describe the numeric data."
   ]
  },
  {
   "cell_type": "code",
   "execution_count": null,
   "metadata": {
    "scrolled": true
   },
   "outputs": [],
   "source": [
    "summary_pd.describe()   "
   ]
  },
  {
   "cell_type": "markdown",
   "metadata": {},
   "source": [
    "Let's look at the distribution of values for a particular column."
   ]
  },
  {
   "cell_type": "code",
   "execution_count": null,
   "metadata": {},
   "outputs": [],
   "source": [
    "summary_pd['approved.string'].value_counts()"
   ]
  },
  {
   "cell_type": "markdown",
   "metadata": {},
   "source": [
    "Let's see some plots of the data. We import the matplotlib to do this."
   ]
  },
  {
   "cell_type": "code",
   "execution_count": null,
   "metadata": {},
   "outputs": [],
   "source": [
    "import matplotlib.pyplot as plt\n",
    "import seaborn as sns\n",
    "%matplotlib inline \n"
   ]
  },
  {
   "cell_type": "markdown",
   "metadata": {},
   "source": [
    "First we plot pairwise relationships in our dataset.  This allows us to see visually if there is any correlation between values as we would expect.  We see that the score column has either a negative or positive correlation with all the features that we use to calculate it.  So this is good."
   ]
  },
  {
   "cell_type": "code",
   "execution_count": null,
   "metadata": {},
   "outputs": [],
   "source": [
    "sns.pairplot(summary_pd)"
   ]
  },
  {
   "cell_type": "markdown",
   "metadata": {},
   "source": [
    "The approved column is not numerical so it does not show up in the plots above.  To make sure we have enough of a different distribution of approved versus denied for our scores we use a box plot.  We confirm there is minimal to no overlap so the data should be good enough to produce a model that gives an accurate prediction."
   ]
  },
  {
   "cell_type": "code",
   "execution_count": null,
   "metadata": {},
   "outputs": [],
   "source": [
    "sns.boxplot(x=\"approved.string\", y=\"score.integer\", data=summary_pd)"
   ]
  }
 ],
 "metadata": {
  "kernelspec": {
   "display_name": "Python 3",
   "language": "python",
   "name": "python3"
  },
  "language_info": {
   "codemirror_mode": {
    "name": "ipython",
    "version": 3
   },
   "file_extension": ".py",
   "mimetype": "text/x-python",
   "name": "python",
   "nbconvert_exporter": "python",
   "pygments_lexer": "ipython3",
   "version": "3.5.4"
  }
 },
 "nbformat": 4,
 "nbformat_minor": 2
}
