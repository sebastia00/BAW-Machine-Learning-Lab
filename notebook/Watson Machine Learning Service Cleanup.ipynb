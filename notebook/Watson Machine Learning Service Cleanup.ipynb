{
 "cells": [
  {
   "cell_type": "markdown",
   "metadata": {},
   "source": [
    "This is just a convinient notebook to clean up a WML service instance.\n",
    "\n",
    "Import the WML API and then create a client instance."
   ]
  },
  {
   "cell_type": "code",
   "execution_count": null,
   "metadata": {},
   "outputs": [],
   "source": [
    "from watson_machine_learning_client import WatsonMachineLearningAPIClient"
   ]
  },
  {
   "cell_type": "code",
   "execution_count": null,
   "metadata": {},
   "outputs": [],
   "source": [
    "# Authenticate to Watson Machine Learning service on IBM Cloud.\n",
    "\n",
    "wml_credentials={\n",
    "  \"apikey\": \"8aSfy7WbWV_7ioSe8kR4_tEc1ghS6Z07wkIflthGQmgT\",\n",
    "  \"iam_apikey_description\": \"Auto generated apikey during resource-key operation for Instance - crn:v1:bluemix:public:pm-20:us-south:a/96f925a37d236c8abd126579c5a53a7b:8f794cbe-79cd-4d90-acb2-f797eca3dbec::\",\n",
    "  \"iam_apikey_name\": \"auto-generated-apikey-109020c5-c94e-457e-9246-9ee6f63f3a62\",\n",
    "  \"iam_role_crn\": \"crn:v1:bluemix:public:iam::::serviceRole:Writer\",\n",
    "  \"iam_serviceid_crn\": \"crn:v1:bluemix:public:iam-identity::a/96f925a37d236c8abd126579c5a53a7b::serviceid:ServiceId-547f2b67-3197-4cae-8348-b98c9784b4e9\",\n",
    "  \"instance_id\": \"8f794cbe-79cd-4d90-acb2-f797eca3dbec\",\n",
    "  \"password\": \"6800c9a6-aee6-4bea-a59d-09511ae025c5\",\n",
    "  \"url\": \"https://us-south.ml.cloud.ibm.com\",\n",
    "  \"username\": \"109020c5-c94e-457e-9246-9ee6f63f3a62\"\n",
    "}\n",
    "\n",
    "client = WatsonMachineLearningAPIClient(wml_credentials)"
   ]
  },
  {
   "cell_type": "markdown",
   "metadata": {},
   "source": [
    "List deployments."
   ]
  },
  {
   "cell_type": "code",
   "execution_count": null,
   "metadata": {},
   "outputs": [],
   "source": [
    "client.deployments.list()"
   ]
  },
  {
   "cell_type": "markdown",
   "metadata": {},
   "source": [
    "Clean up deployments."
   ]
  },
  {
   "cell_type": "code",
   "execution_count": null,
   "metadata": {},
   "outputs": [],
   "source": [
    "deploymentDetails = client.deployments.get_details()\n",
    "\n",
    "for deployment in deploymentDetails['resources']:\n",
    "    guid = deployment['metadata']['guid']\n",
    "    print(guid)\n",
    "    client.deployments.delete(guid)\n"
   ]
  }
 ],
 "metadata": {
  "kernelspec": {
   "display_name": "Python 3",
   "language": "python",
   "name": "python3"
  },
  "language_info": {
   "codemirror_mode": {
    "name": "ipython",
    "version": 3
   },
   "file_extension": ".py",
   "mimetype": "text/x-python",
   "name": "python",
   "nbconvert_exporter": "python",
   "pygments_lexer": "ipython3",
   "version": "3.5.4"
  }
 },
 "nbformat": 4,
 "nbformat_minor": 2
}
